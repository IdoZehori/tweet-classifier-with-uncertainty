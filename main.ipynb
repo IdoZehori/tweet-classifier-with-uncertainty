{
 "cells": [
  {
   "cell_type": "code",
   "execution_count": 1,
   "metadata": {},
   "outputs": [],
   "source": [
    "import random\n",
    "\n",
    "import matplotlib.pyplot as plt\n",
    "import numpy as np\n",
    "import pandas as pd\n",
    "import torch\n",
    "import torch.nn as nn\n",
    "import torch.nn.functional as F\n",
    "import torch.optim as optim\n",
    "from sklearn.metrics import roc_auc_score\n",
    "from sklearn.model_selection import train_test_split\n",
    "from torch.distributions import Beta\n",
    "from torch.utils.data import Dataset, DataLoader\n",
    "from transformers import GPT2Model, GPT2Tokenizer"
   ]
  },
  {
   "cell_type": "code",
   "execution_count": 2,
   "metadata": {},
   "outputs": [],
   "source": [
    "torch.manual_seed(1337)  \n",
    "np.random.seed(1337)\n",
    "\n",
    "def beta_bce_variance_loss(alpha, beta, targets, variance_penalty_scale=0.1):\n",
    "    \"\"\"\n",
    "    Computes the BCE loss for the mean of the Beta distribution and adds a penalty for the variance.\n",
    "    \n",
    "    Parameters:\n",
    "    - alpha: Predicted alpha values for the Beta distribution.\n",
    "    - beta: Predicted beta values for the Beta distribution.\n",
    "    - targets: Target values for the BCE loss.\n",
    "    - variance_penalty_scale: Scaling factor for the variance penalty.\n",
    "    \n",
    "    Returns:\n",
    "    - Combined loss value.\n",
    "    \"\"\"\n",
    "    dist = Beta(alpha, beta)\n",
    "    \n",
    "    # Mean BCE loss\n",
    "    mean = dist.mean\n",
    "    bce_loss = F.binary_cross_entropy(mean, targets.view(mean.shape[0], 1))\n",
    "    \n",
    "    # Variance penalty\n",
    "    variance = dist.variance\n",
    "    variance_penalty = variance_penalty_scale * variance.mean()\n",
    "    \n",
    "    # Combine the losses\n",
    "    total_loss = bce_loss + variance_penalty\n",
    "    \n",
    "    return total_loss\n",
    "\n",
    "\n",
    "def plot_beta_distribution(a, b):\n",
    "    from scipy.stats import beta\n",
    "    \n",
    "    # Define a range of x values\n",
    "    linespace = np.linspace(0, 1, 1000)\n",
    "\n",
    "    # Compute the PDF of the Beta distribution\n",
    "    pdf_values = beta.pdf(linespace, a, b)\n",
    "\n",
    "    # Plot the PDF\n",
    "    plt.figure(figsize=(10, 6))\n",
    "    plt.plot(linespace, pdf_values, label=f'Beta Distribution (α={a:.3f}, β={b:.3f})')\n",
    "    plt.xlabel('x')\n",
    "    plt.ylabel('Probability Density')\n",
    "    plt.title('PDF of Beta Distribution')\n",
    "    plt.legend()\n",
    "    plt.grid(True)\n",
    "    plt.show()\n",
    "    \n",
    "\n",
    "def generate_embeddings(text):\n",
    "    inputs = tokenizer(text, return_tensors=\"pt\", padding=True, truncation=True, max_length=512)\n",
    "    with torch.no_grad():\n",
    "        outputs = gpt_model(**inputs)\n",
    "    return outputs.last_hidden_state.mean(dim=1)\n",
    "\n",
    "\n",
    "class TextDataset(Dataset):\n",
    "    def __init__(self, texts, targets):\n",
    "        self.texts = generate_embeddings(texts)\n",
    "        self.targets = targets\n",
    "\n",
    "    def __len__(self):\n",
    "        return len(self.texts)\n",
    "\n",
    "    def __getitem__(self, idx):\n",
    "        text_embedding = self.texts[idx]\n",
    "        target = self.targets[idx]\n",
    "        return text_embedding, target\n",
    "\n",
    "\n",
    "def get_model_prediction_from_test_text(text):\n",
    "    model.eval()\n",
    "    with torch.no_grad():\n",
    "        emb = generate_embeddings(text)\n",
    "        output = model(emb)\n",
    "    return output\n",
    "\n",
    "\n",
    "def create_text_prompt(keyword, location, tweet):\n",
    "    return f\"Keyword: {keyword}\\nLocation: {location}\\nTweet: {tweet}\\n\""
   ]
  },
  {
   "cell_type": "code",
   "execution_count": 3,
   "metadata": {},
   "outputs": [],
   "source": [
    "# Load the tokenizer and model\n",
    "tokenizer = GPT2Tokenizer.from_pretrained('gpt2')\n",
    "gpt_model = GPT2Model.from_pretrained('gpt2')\n",
    "\n",
    "# Set the padding token\n",
    "tokenizer.pad_token = tokenizer.eos_token"
   ]
  },
  {
   "cell_type": "code",
   "execution_count": 4,
   "metadata": {},
   "outputs": [],
   "source": [
    "df = pd.read_csv('train.csv', index_col='id').sample(n=1500, random_state=1337)\n",
    "df['prompt_text'] = df.apply(lambda row: create_text_prompt(row.keyword, row.location, row.text), axis=1)"
   ]
  },
  {
   "cell_type": "code",
   "execution_count": 5,
   "metadata": {},
   "outputs": [],
   "source": [
    "train_texts, test_texts, train_targets, test_targets = train_test_split(df['prompt_text'], df['target'], test_size=0.2, random_state=1337)\n",
    "train_dataset = TextDataset(train_texts.tolist(), train_targets.tolist())\n",
    "test_dataset = TextDataset(test_texts.tolist(), test_targets.tolist())\n"
   ]
  },
  {
   "cell_type": "code",
   "execution_count": 6,
   "metadata": {},
   "outputs": [],
   "source": [
    "train_dataloader = DataLoader(train_dataset, batch_size=32, shuffle=True)\n",
    "test_dataloader = DataLoader(test_dataset, batch_size=32, shuffle=False)"
   ]
  },
  {
   "cell_type": "code",
   "execution_count": 7,
   "metadata": {},
   "outputs": [],
   "source": [
    "class BetaClassifier(nn.Module):\n",
    "    def __init__(self, input_dim=768, hidden_dim=64):\n",
    "        super(BetaClassifier, self).__init__()      \n",
    "        self.fc1 = nn.Linear(input_dim, hidden_dim)\n",
    "        self.fc2_alpha = nn.Linear(hidden_dim, 1, bias=False)  \n",
    "        self.fc2_beta = nn.Linear(hidden_dim, 1, bias=False)   \n",
    "        self.init_weights()\n",
    "    \n",
    "    def init_weights(self):\n",
    "        for m in self.modules():\n",
    "            if isinstance(m, nn.Linear):\n",
    "                nn.init.xavier_normal_(m.weight)\n",
    "\n",
    "    def forward(self, x):\n",
    "        x = F.silu(self.fc1(x))\n",
    "        alpha = F.softplus(self.fc2_alpha(x)) + 1  # Ensure α > 1 for stability\n",
    "        beta = F.softplus(self.fc2_beta(x)) + 1    # Ensure β > 1 for stability\n",
    "        return alpha, beta\n",
    "    \n",
    "model = BetaClassifier()\n",
    "optimizer = optim.Adam(model.parameters(), lr=0.001)"
   ]
  },
  {
   "cell_type": "code",
   "execution_count": 8,
   "metadata": {},
   "outputs": [
    {
     "name": "stdout",
     "output_type": "stream",
     "text": [
      "Epoch 0 => Train Loss: 0.7018, Test Loss: 0.7013, AUC: 0.6745\n",
      "Epoch 10 => Train Loss: 0.5529, Test Loss: 0.5448, AUC: 0.8985\n",
      "Epoch 20 => Train Loss: 0.5308, Test Loss: 0.5377, AUC: 0.9010\n",
      "Epoch 30 => Train Loss: 0.5217, Test Loss: 0.5364, AUC: 0.9019\n",
      "Epoch 40 => Train Loss: 0.3782, Test Loss: 0.4115, AUC: 0.8984\n",
      "Epoch 50 => Train Loss: 0.3450, Test Loss: 0.4358, AUC: 0.8925\n",
      "Epoch 60 => Train Loss: 0.3321, Test Loss: 0.4291, AUC: 0.8889\n",
      "Epoch 70 => Train Loss: 0.3137, Test Loss: 0.4336, AUC: 0.8834\n",
      "Epoch 80 => Train Loss: 0.3025, Test Loss: 0.4413, AUC: 0.8841\n",
      "Epoch 90 => Train Loss: 0.2822, Test Loss: 0.4639, AUC: 0.8833\n"
     ]
    }
   ],
   "source": [
    "num_epochs = 100\n",
    "for epoch in range(num_epochs):\n",
    "    # Training\n",
    "    model.train()\n",
    "    train_loss = 0\n",
    "    for embeddings, labels in train_dataloader:\n",
    "        optimizer.zero_grad()\n",
    "        alpha, beta = model(embeddings)\n",
    "        loss = beta_bce_variance_loss(alpha, beta, labels.float())\n",
    "        loss.backward()\n",
    "        optimizer.step()\n",
    "        train_loss += loss.item()\n",
    "    avg_train_loss = train_loss / len(train_dataloader)\n",
    "\n",
    "    # Testing\n",
    "    model.eval()\n",
    "    test_loss = 0\n",
    "    all_preds = []\n",
    "    all_targets = []\n",
    "    with torch.no_grad():\n",
    "        for embeddings, labels in test_dataloader:\n",
    "            alpha, beta = model(embeddings)\n",
    "            loss = beta_bce_variance_loss(alpha, beta, labels.float())\n",
    "            test_loss += loss.item()\n",
    "            dist = Beta(alpha, beta)\n",
    "            preds = dist.mean\n",
    "            all_preds.extend(preds.detach().numpy())\n",
    "            all_targets.extend(labels.numpy())\n",
    "    avg_test_loss = test_loss / len(test_dataloader)\n",
    "    auc = roc_auc_score(all_targets, all_preds)\n",
    "    \n",
    "    if epoch % 10 == 0:\n",
    "        print(f'Epoch {epoch} => Train Loss: {avg_train_loss:.4f}, Test Loss: {avg_test_loss:.4f}, AUC: {auc:.4f}')"
   ]
  },
  {
   "cell_type": "code",
   "execution_count": 9,
   "metadata": {},
   "outputs": [
    {
     "name": "stdout",
     "output_type": "stream",
     "text": [
      "Text: Keyword: violent%20storm\n",
      "Location: Your Six\n",
      "Tweet: @Vickie627 Desert Storm was an unqualified victory a treaty was signed.  Under Clinton the situation only got worse and more violent. #tcot\n",
      "\n",
      "Prediction: α=2.28, β=5.45\n",
      "Probability: 0.30\n",
      "True label: 1\n",
      "Variance: 0.02383\n"
     ]
    },
    {
     "data": {
      "image/png": "[encoded data removed]",
      "text/plain": [
       "<Figure size 1000x600 with 1 Axes>"
      ]
     },
     "metadata": {},
     "output_type": "display_data"
    }
   ],
   "source": [
    "def analyze_text_prediction(text=None):\n",
    "    if text is None:\n",
    "        random_index = random.choice(test_texts.index)\n",
    "        text, target = test_texts.loc[random_index], test_targets.loc[random_index]\n",
    "    \n",
    "    else:\n",
    "        target = 'No target available.'\n",
    "\n",
    "    a, b = get_model_prediction_from_test_text(text)\n",
    "    print(f'Text: {text}')\n",
    "    print(f'Prediction: α={a.item():.2f}, β={b.item():.2f}')\n",
    "    beta_dist = Beta(a, b)\n",
    "    print(f'Probability: {beta_dist.mean.item():.2f}')\n",
    "    print(f'True label: {target}')\n",
    "    print(f'Variance: {beta_dist.variance.item():.5f}')\n",
    "    plot_beta_distribution(a.item(), b.item())\n",
    "\n",
    "analyze_text_prediction()"
   ]
  }
 ],
 "metadata": {
  "kernelspec": {
   "display_name": "Python 3",
   "language": "python",
   "name": "python3"
  },
  "language_info": {
   "codemirror_mode": {
    "name": "ipython",
    "version": 3
   },
   "file_extension": ".py",
   "mimetype": "text/x-python",
   "name": "python",
   "nbconvert_exporter": "python",
   "pygments_lexer": "ipython3",
   "version": "3.12.0"
  }
 },
 "nbformat": 4,
 "nbformat_minor": 2
}
